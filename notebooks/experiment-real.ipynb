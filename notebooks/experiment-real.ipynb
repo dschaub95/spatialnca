{
 "cells": [
  {
   "cell_type": "code",
   "execution_count": null,
   "metadata": {},
   "outputs": [],
   "source": [
    "# autoreload\n",
    "%load_ext autoreload\n",
    "%autoreload 2\n",
    "\n",
    "working_dir = \"/epyc/projects/dschaub/method-projects/spatialnca\"\n",
    "import os\n",
    "\n",
    "os.chdir(working_dir)\n",
    "import scanpy as sc\n",
    "import torch\n",
    "\n",
    "import matplotlib.pyplot as plt\n",
    "\n",
    "from spatialnca.data import prepare_data\n",
    "from spatialnca.model import SpatialNCA\n",
    "from spatialnca.train import Trainer\n",
    "\n",
    "from spatialnca.utils import (\n",
    "    seed_everything,\n",
    "    spatial_scatter,\n",
    "    plot_pyg,\n",
    "    construct_graph,\n",
    ")\n",
    "from spatialnca.config import Config\n"
   ]
  },
  {
   "cell_type": "code",
   "execution_count": null,
   "metadata": {},
   "outputs": [],
   "source": [
    "pos = torch.randn(10, 2)\n",
    "edge_index = construct_graph(pos, knn=2, delaunay=True)\n",
    "plot_pyg(edge_index, pos=pos)"
   ]
  },
  {
   "cell_type": "code",
   "execution_count": null,
   "metadata": {},
   "outputs": [],
   "source": [
    "def exp_kernel(x, sigma):\n",
    "    return torch.exp(-sigma * x**2)\n",
    "\n",
    "\n",
    "x_values = torch.linspace(0, 10, 100)\n",
    "y_values = exp_kernel(x_values, 10)\n",
    "plt.plot(x_values, y_values)\n",
    "plt.show()"
   ]
  },
  {
   "cell_type": "markdown",
   "metadata": {},
   "source": [
    "## Load data"
   ]
  },
  {
   "cell_type": "code",
   "execution_count": null,
   "metadata": {},
   "outputs": [],
   "source": [
    "path = \"data/Zhuang-ABCA-3.003_slice.h5ad\"\n",
    "\n",
    "# path = \"data/xenium_cgn_0011287 - X18_subset.h5ad\"\n",
    "adata = sc.read_h5ad(path)\n",
    "sc.pl.spatial(adata, color=None, spot_size=0.01)\n",
    "\n",
    "# sc.pl.spatial(adata, color=None, spot_size=10)\n",
    "adata"
   ]
  },
  {
   "cell_type": "code",
   "execution_count": 12,
   "metadata": {},
   "outputs": [],
   "source": [
    "# create grid anndata\n",
    "# adata = generate_grid_adata((10, 10))\n",
    "# sc.pl.spatial(adata, color=None, spot_size=0.05)"
   ]
  },
  {
   "cell_type": "code",
   "execution_count": null,
   "metadata": {},
   "outputs": [],
   "source": [
    "base_cfg = Config()\n",
    "cfg = Config()\n",
    "# cfg.emb_key = None\n",
    "# cfg.add_init = True\n",
    "# cfg.act = \"gelu\"\n",
    "# cfg.gpt2_weight_init = True\n",
    "# cfg.pos_init_fn = \"uniform\"\n",
    "# cfg.pos_init_fn = \"sunflower\"\n",
    "# cfg.knn = 20\n",
    "# cfg.fixed_edge_index = False\n",
    "# cfg.n_epochs = int(1e6)\n",
    "# cfg.n_epochs = 20000\n",
    "# cfg.intm_loss = True\n",
    "# cfg.normalize_diff = True\n",
    "cfg.max_coord_upd_norm = 0.05\n",
    "# cfg.complete = True\n",
    "# cfg.delaunay = True\n",
    "# cfg.knn = None\n",
    "# cfg.pos_init_fn = \"random_walk\"\n",
    "cfg.pos_init_kwargs = {\"scale\": 0.1}\n",
    "cfg.n_steps = 20\n",
    "# cfg.kernel_fn = \"gaussian\"\n",
    "# cfg.kernel_kwargs = {\"sigma\": 0.0}\n",
    "\n",
    "diff = cfg - base_cfg\n",
    "if len(diff) > 0:\n",
    "    diff_str = \",\\n\".join([f\"{k}={v}\" for k, v in diff.items()])\n",
    "else:\n",
    "    diff_str = \"Default config\"\n",
    "clean_diff_str = diff_str.replace(\", \", \"_\").replace(\"\\n\", \"_\")\n",
    "print(diff_str)"
   ]
  },
  {
   "cell_type": "code",
   "execution_count": null,
   "metadata": {},
   "outputs": [],
   "source": [
    "# seed everything\n",
    "seed_everything(cfg.seed)\n",
    "\n",
    "data = prepare_data(adata, cfg, construct_edge_index=cfg.fixed_edge_index)\n",
    "\n",
    "spnca = SpatialNCA(\n",
    "    data.num_features,\n",
    "    cfg,\n",
    ")\n",
    "\n",
    "trainer = Trainer(model=spnca, cfg=cfg)\n",
    "\n",
    "trainer.train(data)\n",
    "\n",
    "trainer.plot_history(title=diff_str, save_path=f\"figures/history_{clean_diff_str}.png\")\n",
    "\n",
    "torch.save(spnca, f\"checkpoints/trained_model_{clean_diff_str}.pt\")"
   ]
  },
  {
   "cell_type": "code",
   "execution_count": null,
   "metadata": {},
   "outputs": [],
   "source": [
    "import numpy as np\n",
    "\n",
    "# perform another rollout to check the result\n",
    "n_steps = cfg.n_steps\n",
    "\n",
    "states = spnca.rollout(\n",
    "    x=data.x,\n",
    "    pos=data.pos_init,\n",
    "    n_steps=n_steps,\n",
    "    edge_index=data.edge_index,\n",
    "    return_evolution=True,\n",
    "    prog_bar=True,\n",
    ")\n",
    "positions = np.array([state[\"pos\"] for state in states])\n",
    "positions.shape"
   ]
  },
  {
   "cell_type": "code",
   "execution_count": 11,
   "metadata": {},
   "outputs": [],
   "source": [
    "from spatialnca.utils import set_color, animate_trajectory\n",
    "\n",
    "# usage\n",
    "animate_trajectory(\n",
    "    positions,\n",
    "    interpolation_steps=30,\n",
    "    out_path=\"figures/positions.mp4\",\n",
    "    colors=set_color(adata, \"subclass\"),\n",
    ")"
   ]
  },
  {
   "cell_type": "code",
   "execution_count": null,
   "metadata": {},
   "outputs": [],
   "source": [
    "# perform another rollout to check the result\n",
    "n_steps = cfg.n_steps\n",
    "# n_steps = 100\n",
    "\n",
    "h, pos, edge_index, _ = spnca.rollout(\n",
    "    x=data.x, pos=data.pos_init, n_steps=n_steps, edge_index=data.edge_index\n",
    ")\n",
    "\n",
    "# convert to anndata for plotting\n",
    "ad_init = adata.copy()\n",
    "ad_init.obsm[\"spatial\"] = data.pos_init.cpu().detach().numpy()\n",
    "\n",
    "ad_final = adata.copy()\n",
    "ad_final.obsm[\"spatial\"] = pos.cpu().detach().numpy()\n",
    "\n",
    "\n",
    "spatial_scatter(ad_init, color=None, title=\"Initial positions\")\n",
    "spatial_scatter(ad_final, color=None, title=\"Predicted\")\n",
    "spatial_scatter(adata, color=None, title=\"Ground truth\")\n",
    "\n",
    "col = \"celltype_l1\"\n",
    "col = \"subclass\"\n",
    "\n",
    "if col in adata.obs.columns:\n",
    "    spatial_scatter(adata, color=col, title=\"Ground truth\")\n",
    "    spatial_scatter(ad_final, color=col, title=\"Predicted\")\n",
    "    spatial_scatter(ad_init, color=col, title=\"Initial positons\")"
   ]
  },
  {
   "cell_type": "code",
   "execution_count": 40,
   "metadata": {},
   "outputs": [],
   "source": [
    "# pos_pred = pos.detach().cpu().numpy()\n",
    "# pos_true = adata.obsm[\"spatial\"]\n",
    "# R, t = align_point_clouds(pos_pred, pos_true)\n",
    "# pos_pred_aligned = pos_pred @ R + t\n",
    "# ad_final_aligned = ad_final.copy()\n",
    "# ad_final_aligned.obsm[\"spatial\"] = pos_pred_aligned\n",
    "# spatial_scatter(ad_final_aligned, color=\"subclass\", title=\"Predicted aligned\")"
   ]
  },
  {
   "cell_type": "code",
   "execution_count": null,
   "metadata": {},
   "outputs": [],
   "source": [
    "plot_pyg(edge_index, pos=pos)"
   ]
  },
  {
   "cell_type": "code",
   "execution_count": 42,
   "metadata": {},
   "outputs": [],
   "source": [
    "# print(f\"Sigma: {spnca.mpnn.kernel.sigma}\")\n",
    "# if spnca.mpnn.kernel:\n",
    "#     x_values = torch.linspace(0, 10, 100).to(spnca.device)\n",
    "#     y_values = spnca.mpnn.kernel(x_values)\n",
    "#     plt.plot(x_values.detach().cpu().numpy(), y_values.detach().cpu().numpy())\n",
    "#     plt.show()"
   ]
  },
  {
   "cell_type": "code",
   "execution_count": null,
   "metadata": {},
   "outputs": [],
   "source": []
  },
  {
   "cell_type": "code",
   "execution_count": null,
   "metadata": {},
   "outputs": [],
   "source": []
  }
 ],
 "metadata": {
  "kernelspec": {
   "display_name": "npc-env",
   "language": "python",
   "name": "python3"
  },
  "language_info": {
   "codemirror_mode": {
    "name": "ipython",
    "version": 3
   },
   "file_extension": ".py",
   "mimetype": "text/x-python",
   "name": "python",
   "nbconvert_exporter": "python",
   "pygments_lexer": "ipython3",
   "version": "3.10.16"
  }
 },
 "nbformat": 4,
 "nbformat_minor": 2
}
