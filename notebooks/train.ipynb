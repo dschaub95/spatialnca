{
 "cells": [
  {
   "cell_type": "code",
   "execution_count": 7,
   "metadata": {},
   "outputs": [
    {
     "name": "stdout",
     "output_type": "stream",
     "text": [
      "The autoreload extension is already loaded. To reload it, use:\n",
      "  %reload_ext autoreload\n",
      "Working directory: /home/dschaub/projects/spatialnca\n"
     ]
    }
   ],
   "source": [
    "# autoreload\n",
    "%load_ext autoreload\n",
    "%autoreload 2\n",
    "\n",
    "import os\n",
    "\n",
    "while \".gitignore\" not in os.listdir():\n",
    "    parent = os.path.dirname(os.getcwd())\n",
    "    os.chdir(parent)\n",
    "print(f\"Working directory: {os.getcwd()}\")\n",
    "\n",
    "\n",
    "import scanpy as sc\n",
    "import torch\n",
    "\n",
    "import matplotlib.pyplot as plt\n",
    "import wandb\n",
    "\n",
    "from spatialnca.data import prepare_data\n",
    "from spatialnca.model import SpatialNCA\n",
    "from spatialnca.train import Trainer, train\n",
    "\n",
    "from spatialnca.utils import (\n",
    "    seed_everything,\n",
    "    spatial_scatter,\n",
    "    plot_pyg,\n",
    "    construct_graph,\n",
    ")\n",
    "from spatialnca.config import Config"
   ]
  },
  {
   "cell_type": "code",
   "execution_count": 8,
   "metadata": {},
   "outputs": [
    {
     "name": "stdout",
     "output_type": "stream",
     "text": [
      "n_epochs=10000->100,\n",
      "n_steps=5->50,\n",
      "max_coord_upd_norm=None->0.1\n"
     ]
    }
   ],
   "source": [
    "default_cfg = Config()\n",
    "cfg = Config()\n",
    "# cfg.emb_key = None\n",
    "# cfg.add_init = True\n",
    "# cfg.act = \"gelu\"\n",
    "# cfg.gpt2_weight_init = True\n",
    "# cfg.pos_init_fn = \"uniform\"\n",
    "# cfg.pos_init_fn = \"sunflower\"\n",
    "# cfg.knn = 20\n",
    "# cfg.fixed_edge_index = False\n",
    "# cfg.n_epochs = int(1e6)\n",
    "cfg.n_epochs = 100\n",
    "# cfg.intm_loss = True\n",
    "# cfg.normalize_diff = True\n",
    "cfg.max_coord_upd_norm = 0.1\n",
    "# cfg.complete = True\n",
    "# cfg.delaunay = True\n",
    "# cfg.knn = None\n",
    "# cfg.pos_init_fn = \"random_walk\"\n",
    "# cfg.pos_init_kwargs = {\"scale\": 0.1}\n",
    "cfg.n_steps = 50\n",
    "# cfg.kernel_fn = \"gaussian\"\n",
    "# cfg.kernel_kwargs = {\"sigma\": 0.0}\n",
    "# cfg.use_attn = True\n",
    "\n",
    "diff = cfg - default_cfg\n",
    "if len(diff) > 0:\n",
    "    diff_str = \",\\n\".join([f\"{k}={v}\" for k, v in diff.items()])\n",
    "else:\n",
    "    diff_str = \"Default config\"\n",
    "clean_diff_str = diff_str.replace(\", \", \"_\").replace(\"\\n\", \"_\")\n",
    "print(diff_str)"
   ]
  },
  {
   "cell_type": "code",
   "execution_count": 9,
   "metadata": {},
   "outputs": [
    {
     "data": {
      "text/html": [
       "Tracking run with wandb version 0.20.1"
      ],
      "text/plain": [
       "<IPython.core.display.HTML object>"
      ]
     },
     "metadata": {},
     "output_type": "display_data"
    },
    {
     "data": {
      "text/html": [
       "Run data is saved locally in <code>/home/dschaub/projects/spatialnca/wandb/run-20250626_130941-2hgmr1l0</code>"
      ],
      "text/plain": [
       "<IPython.core.display.HTML object>"
      ]
     },
     "metadata": {},
     "output_type": "display_data"
    },
    {
     "data": {
      "text/html": [
       "Syncing run <strong><a href='https://wandb.ai/dschaub/spatialnca/runs/2hgmr1l0' target=\"_blank\">youthful-breeze-46</a></strong> to <a href='https://wandb.ai/dschaub/spatialnca' target=\"_blank\">Weights & Biases</a> (<a href='https://wandb.me/developer-guide' target=\"_blank\">docs</a>)<br>"
      ],
      "text/plain": [
       "<IPython.core.display.HTML object>"
      ]
     },
     "metadata": {},
     "output_type": "display_data"
    },
    {
     "data": {
      "text/html": [
       " View project at <a href='https://wandb.ai/dschaub/spatialnca' target=\"_blank\">https://wandb.ai/dschaub/spatialnca</a>"
      ],
      "text/plain": [
       "<IPython.core.display.HTML object>"
      ]
     },
     "metadata": {},
     "output_type": "display_data"
    },
    {
     "data": {
      "text/html": [
       " View run at <a href='https://wandb.ai/dschaub/spatialnca/runs/2hgmr1l0' target=\"_blank\">https://wandb.ai/dschaub/spatialnca/runs/2hgmr1l0</a>"
      ],
      "text/plain": [
       "<IPython.core.display.HTML object>"
      ]
     },
     "metadata": {},
     "output_type": "display_data"
    },
    {
     "name": "stdout",
     "output_type": "stream",
     "text": [
      "Constructed graph with 318 nodes and 3180 edges\n"
     ]
    },
    {
     "data": {
      "application/vnd.jupyter.widget-view+json": {
       "model_id": "0ef51536d68c4825acdc7ff59b095a22",
       "version_major": 2,
       "version_minor": 0
      },
      "text/plain": [
       "Training:   0%|          | 0/100 [00:00<?, ?it/s]"
      ]
     },
     "metadata": {},
     "output_type": "display_data"
    },
    {
     "data": {
      "text/html": [],
      "text/plain": [
       "<IPython.core.display.HTML object>"
      ]
     },
     "metadata": {},
     "output_type": "display_data"
    },
    {
     "data": {
      "text/html": [
       "<br>    <style><br>        .wandb-row {<br>            display: flex;<br>            flex-direction: row;<br>            flex-wrap: wrap;<br>            justify-content: flex-start;<br>            width: 100%;<br>        }<br>        .wandb-col {<br>            display: flex;<br>            flex-direction: column;<br>            flex-basis: 100%;<br>            flex: 1;<br>            padding: 10px;<br>        }<br>    </style><br><div class=\"wandb-row\"><div class=\"wandb-col\"><h3>Run history:</h3><br/><table class=\"wandb\"><tr><td>epoch</td><td>▁▁▁▂▂▂▂▂▂▂▃▃▃▃▃▄▄▄▄▄▄▄▄▅▅▅▅▅▅▅▆▆▆▆▆▇▇▇██</td></tr><tr><td>train_loss</td><td>█▁▁▁▁▁▁▁▁▁▁▁▁▁▁▁▁▁▁▁▁▁▁▁▁▁▁▁▁▁▁▁▁▁▁▁▁▁▁▁</td></tr></table><br/></div><div class=\"wandb-col\"><h3>Run summary:</h3><br/><table class=\"wandb\"><tr><td>epoch</td><td>99</td></tr><tr><td>train_loss</td><td>0.00414</td></tr></table><br/></div></div>"
      ],
      "text/plain": [
       "<IPython.core.display.HTML object>"
      ]
     },
     "metadata": {},
     "output_type": "display_data"
    },
    {
     "data": {
      "text/html": [
       " View run <strong style=\"color:#cdcd00\">youthful-breeze-46</strong> at: <a href='https://wandb.ai/dschaub/spatialnca/runs/2hgmr1l0' target=\"_blank\">https://wandb.ai/dschaub/spatialnca/runs/2hgmr1l0</a><br> View project at: <a href='https://wandb.ai/dschaub/spatialnca' target=\"_blank\">https://wandb.ai/dschaub/spatialnca</a><br>Synced 5 W&B file(s), 0 media file(s), 0 artifact file(s) and 0 other file(s)"
      ],
      "text/plain": [
       "<IPython.core.display.HTML object>"
      ]
     },
     "metadata": {},
     "output_type": "display_data"
    },
    {
     "data": {
      "text/html": [
       "Find logs at: <code>./wandb/run-20250626_130941-2hgmr1l0/logs</code>"
      ],
      "text/plain": [
       "<IPython.core.display.HTML object>"
      ]
     },
     "metadata": {},
     "output_type": "display_data"
    },
    {
     "data": {
      "image/png": "[encoded data removed]",
      "text/plain": [
       "<Figure size 640x480 with 1 Axes>"
      ]
     },
     "metadata": {},
     "output_type": "display_data"
    }
   ],
   "source": [
    "trainer = train(cfg, print_cfg=False)\n",
    "trainer.plot_history(title=diff_str, save_path=f\"figures/history_{clean_diff_str}.png\")\n",
    "\n",
    "torch.save(trainer.model, f\"checkpoints/trained_model_{clean_diff_str}.pt\")"
   ]
  }
 ],
 "metadata": {
  "kernelspec": {
   "display_name": ".venv",
   "language": "python",
   "name": "python3"
  },
  "language_info": {
   "codemirror_mode": {
    "name": "ipython",
    "version": 3
   },
   "file_extension": ".py",
   "mimetype": "text/x-python",
   "name": "python",
   "nbconvert_exporter": "python",
   "pygments_lexer": "ipython3",
   "version": "3.12.8"
  }
 },
 "nbformat": 4,
 "nbformat_minor": 2
}
