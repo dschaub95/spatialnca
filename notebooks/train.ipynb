{
 "cells": [
  {
   "cell_type": "code",
   "execution_count": 13,
   "metadata": {},
   "outputs": [
    {
     "name": "stdout",
     "output_type": "stream",
     "text": [
      "The autoreload extension is already loaded. To reload it, use:\n",
      "  %reload_ext autoreload\n",
      "Working directory: /epyc/projects/dschaub/method-projects/spatialnca\n"
     ]
    }
   ],
   "source": [
    "# autoreload\n",
    "%load_ext autoreload\n",
    "%autoreload 2\n",
    "\n",
    "import os\n",
    "\n",
    "while \".gitignore\" not in os.listdir():\n",
    "    parent = os.path.dirname(os.getcwd())\n",
    "    os.chdir(parent)\n",
    "print(f\"Working directory: {os.getcwd()}\")\n",
    "import wandb\n",
    "import torch\n",
    "import numpy as np\n",
    "import scanpy as sc\n",
    "\n",
    "from spatialnca.train import train\n",
    "\n",
    "from spatialnca.config import Config\n",
    "from spatialnca.utils import animate_trajectory, spatial_scatter"
   ]
  },
  {
   "cell_type": "code",
   "execution_count": null,
   "metadata": {},
   "outputs": [],
   "source": [
    "def func(eps, r):\n",
    "    return -np.log(eps) / (r**2)\n",
    "\n",
    "\n",
    "func(1e-3, 0.025)"
   ]
  },
  {
   "cell_type": "code",
   "execution_count": 9,
   "metadata": {},
   "outputs": [],
   "source": [
    "default_cfg = Config()\n",
    "cfg = Config()\n",
    "# cfg.emb_key = None\n",
    "cfg.add_init = True\n",
    "# cfg.act = \"gelu\"\n",
    "# cfg.gpt2_weight_init = True\n",
    "# cfg.pos_init_fn = \"uniform\"\n",
    "# cfg.pos_init_fn = \"sunflower\"\n",
    "# cfg.dynamic_edges = True\n",
    "# cfg.n_static_warmup_steps = 1000\n",
    "# cfg.edge_update_steps = 2\n",
    "# cfg.use_orig_graph = False  # use the initial graph for the first n_static_warmup_steps\n",
    "cfg.clip_value = 1.0\n",
    "# cfg.lr = 1e-2\n",
    "# cfg.warmup_iters = 1000\n",
    "# cfg.n_epochs = int(1e6)\n",
    "cfg.n_epochs = 10000\n",
    "# cfg.intm_loss = True\n",
    "# cfg.pos_init_kwargs = {\"scale\": 0.1}\n",
    "# cfg.normalize_diff = True\n",
    "# cfg.max_coord_upd_norm = 0.75\n",
    "cfg.complete = True\n",
    "# cfg.delaunay = True\n",
    "# cfg.knn = 5\n",
    "# cfg.pos_init_fn = \"random_walk\"\n",
    "# cfg.pos_init_kwargs = {\"scale\": 0.1}\n",
    "cfg.n_steps = 5\n",
    "cfg.kernel_fn = \"gaussian\"\n",
    "cfg.kernel_kwargs = {\"sigma\": 1.0, \"eps\": 1e-3, \"radius\": 0.05}\n",
    "cfg.use_attn = True\n",
    "# cfg.aggr = \"mean\""
   ]
  },
  {
   "cell_type": "code",
   "execution_count": 10,
   "metadata": {},
   "outputs": [],
   "source": [
    "default_cfg = Config()\n",
    "cfg = Config()\n",
    "cfg.add_init = True\n",
    "cfg.clip_value = 1.0\n",
    "# cfg.lr = 1e-2\n",
    "cfg.n_epochs = 10000\n",
    "# cfg.max_coord_upd_norm = 0.15\n",
    "cfg.complete = True\n",
    "# cfg.n_steps = 30\n",
    "cfg.pos_init_kwargs = {\"scale\": 0.2}\n",
    "cfg.kernel_fn = \"gaussian\"\n",
    "cfg.kernel_kwargs = {\"eps\": 1e-2, \"max_radius\": 0.2}\n",
    "cfg.use_attn = True\n",
    "cfg.scale_by_dist = True\n",
    "# cfg.alpha_decay = True\n",
    "# cfg.aggr = \"mean\"\n",
    "cfg.watch = True\n",
    "cfg.plot_init_pos = True"
   ]
  },
  {
   "cell_type": "code",
   "execution_count": null,
   "metadata": {},
   "outputs": [],
   "source": [
    "diff = cfg - default_cfg\n",
    "if len(diff) > 0:\n",
    "    diff_str = \",\\n\".join([f\"{k}={v}\" for k, v in diff.items()])\n",
    "else:\n",
    "    diff_str = \"Default config\"\n",
    "clean_diff_str = diff_str.replace(\", \", \"_\").replace(\"\\n\", \"_\")\n",
    "print(diff_str)"
   ]
  },
  {
   "cell_type": "code",
   "execution_count": null,
   "metadata": {},
   "outputs": [],
   "source": [
    "# wandb.finish()\n",
    "os.environ[\"WANDB_MODE\"] = \"disabled\"\n",
    "os.environ[\"WANDB_MODE\"] = \"online\"\n",
    "# os.environ[\"WANDB_DISABLED\"] = \"true\"\n",
    "\n",
    "trainer = train(cfg, print_cfg=False)\n",
    "\n",
    "os.makedirs(\"figures\", exist_ok=True)\n",
    "os.makedirs(\"checkpoints\", exist_ok=True)\n",
    "\n",
    "trainer.plot_history(\n",
    "    title=diff_str, save_path=f\"figures/history_{clean_diff_str[0:50]}.png\"\n",
    ")\n",
    "\n",
    "torch.save(trainer.model, f\"checkpoints/trained_model_{clean_diff_str}.pt\")"
   ]
  },
  {
   "cell_type": "code",
   "execution_count": null,
   "metadata": {},
   "outputs": [],
   "source": [
    "# perform another rollout to check the result\n",
    "n_steps = cfg.n_steps\n",
    "\n",
    "model = trainer.model\n",
    "data = trainer.data\n",
    "\n",
    "states = model.rollout(\n",
    "    x=data.x,\n",
    "    pos=data.pos_init,\n",
    "    n_steps=n_steps,\n",
    "    edge_index=data.edge_index_init,\n",
    "    return_evolution=True,\n",
    "    prog_bar=True,\n",
    "    dynamic_edges=cfg.dynamic_edges,\n",
    ")\n",
    "positions = np.array([state[\"pos\"] for state in states])\n",
    "positions.shape\n",
    "\n",
    "pos = states[-1][\"pos\"].to(trainer.device)\n",
    "loss = trainer.compute_loss(pos)\n",
    "loss"
   ]
  },
  {
   "cell_type": "code",
   "execution_count": 52,
   "metadata": {},
   "outputs": [],
   "source": [
    "# usage\n",
    "animate_trajectory(\n",
    "    positions,\n",
    "    interpolation_steps=30,\n",
    "    out_path=\"figures/positions_dynamic.mp4\",\n",
    "    # colors=set_color(adata, \"subclass\"),\n",
    ")"
   ]
  },
  {
   "cell_type": "code",
   "execution_count": null,
   "metadata": {},
   "outputs": [],
   "source": [
    "# perform another rollout to check the result\n",
    "adata = sc.read_h5ad(cfg.path)\n",
    "\n",
    "# convert to anndata for plotting\n",
    "ad_init = adata.copy()\n",
    "ad_init.obsm[\"spatial\"] = data.pos_init.cpu().detach().numpy()\n",
    "\n",
    "ad_final = adata.copy()\n",
    "ad_final.obsm[\"spatial\"] = pos.cpu().detach().numpy()\n",
    "\n",
    "\n",
    "spatial_scatter(ad_init, color=None, title=\"Initial positions\")\n",
    "spatial_scatter(ad_final, color=None, title=\"Predicted\")\n",
    "spatial_scatter(adata, color=None, title=\"Ground truth\")\n",
    "\n",
    "col = \"celltype_l1\"\n",
    "col = \"subclass\"\n",
    "\n",
    "if col in adata.obs.columns:\n",
    "    spatial_scatter(adata, color=col, title=\"Ground truth\")\n",
    "    spatial_scatter(ad_final, color=col, title=\"Predicted\")\n",
    "    spatial_scatter(ad_init, color=col, title=\"Initial positons\")"
   ]
  },
  {
   "cell_type": "code",
   "execution_count": null,
   "metadata": {},
   "outputs": [],
   "source": [
    "# check the loss\n",
    "edge_index_full = trainer.edge_index_full\n",
    "dists_true = trainer.dists_true\n",
    "\n",
    "# dists_pred = torch.norm(pos[edge_index_full[0]] - pos[edge_index_full[1]], p=2, dim=-1)\n",
    "\n",
    "# loss = torch.mean((dists_pred - dists_true) ** 2)\n",
    "# loss\n",
    "loss = trainer.compute_loss(pos)\n",
    "loss"
   ]
  }
 ],
 "metadata": {
  "kernelspec": {
   "display_name": ".venv",
   "language": "python",
   "name": "python3"
  },
  "language_info": {
   "codemirror_mode": {
    "name": "ipython",
    "version": 3
   },
   "file_extension": ".py",
   "mimetype": "text/x-python",
   "name": "python",
   "nbconvert_exporter": "python",
   "pygments_lexer": "ipython3",
   "version": "3.10.16"
  }
 },
 "nbformat": 4,
 "nbformat_minor": 2
}
