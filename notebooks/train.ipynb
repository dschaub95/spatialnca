{
 "cells": [
  {
   "cell_type": "code",
   "execution_count": 4,
   "metadata": {},
   "outputs": [
    {
     "name": "stdout",
     "output_type": "stream",
     "text": [
      "The autoreload extension is already loaded. To reload it, use:\n",
      "  %reload_ext autoreload\n",
      "Working directory: /home/dschaub/projects/spatialnca\n"
     ]
    }
   ],
   "source": [
    "# autoreload\n",
    "%load_ext autoreload\n",
    "%autoreload 2\n",
    "\n",
    "import os\n",
    "\n",
    "while \".gitignore\" not in os.listdir():\n",
    "    parent = os.path.dirname(os.getcwd())\n",
    "    os.chdir(parent)\n",
    "print(f\"Working directory: {os.getcwd()}\")\n",
    "import wandb\n",
    "import torch\n",
    "\n",
    "\n",
    "from spatialnca.train import train\n",
    "\n",
    "from spatialnca.config import Config"
   ]
  },
  {
   "cell_type": "code",
   "execution_count": 7,
   "metadata": {},
   "outputs": [
    {
     "name": "stdout",
     "output_type": "stream",
     "text": [
      "n_epochs=10000->100,\n",
      "use_attn=False->True,\n",
      "complete=False->True\n"
     ]
    }
   ],
   "source": [
    "default_cfg = Config()\n",
    "cfg = Config()\n",
    "# cfg.emb_key = None\n",
    "# cfg.add_init = True\n",
    "# cfg.act = \"gelu\"\n",
    "# cfg.gpt2_weight_init = True\n",
    "# cfg.pos_init_fn = \"uniform\"\n",
    "# cfg.pos_init_fn = \"sunflower\"\n",
    "# cfg.knn = 20\n",
    "# cfg.dynamic_edges = True\n",
    "# cfg.n_epochs = int(1e6)\n",
    "cfg.n_epochs = 100\n",
    "# cfg.intm_loss = True\n",
    "# cfg.normalize_diff = True\n",
    "# cfg.max_coord_upd_norm = 0.1\n",
    "cfg.complete = True\n",
    "# cfg.delaunay = True\n",
    "# cfg.knn = None\n",
    "# cfg.pos_init_fn = \"random_walk\"\n",
    "# cfg.pos_init_kwargs = {\"scale\": 0.1}\n",
    "# cfg.n_steps = 50\n",
    "# cfg.kernel_fn = \"gaussian\"\n",
    "# cfg.kernel_kwargs = {\"sigma\": 0.0}\n",
    "cfg.use_attn = True\n",
    "# cfg.aggr = \"mean\"\n",
    "\n",
    "diff = cfg - default_cfg\n",
    "if len(diff) > 0:\n",
    "    diff_str = \",\\n\".join([f\"{k}={v}\" for k, v in diff.items()])\n",
    "else:\n",
    "    diff_str = \"Default config\"\n",
    "clean_diff_str = diff_str.replace(\", \", \"_\").replace(\"\\n\", \"_\")\n",
    "print(diff_str)"
   ]
  },
  {
   "cell_type": "code",
   "execution_count": 8,
   "metadata": {},
   "outputs": [
    {
     "name": "stdout",
     "output_type": "stream",
     "text": [
      "Constructed graph with 318 nodes and 101124 edges\n"
     ]
    },
    {
     "data": {
      "application/vnd.jupyter.widget-view+json": {
       "model_id": "9a793f15e0a14fcdb311ab344e812d29",
       "version_major": 2,
       "version_minor": 0
      },
      "text/plain": [
       "Training:   0%|          | 0/100 [00:00<?, ?it/s]"
      ]
     },
     "metadata": {},
     "output_type": "display_data"
    },
    {
     "name": "stderr",
     "output_type": "stream",
     "text": [
      "Traceback (most recent call last):\n",
      "  File \"/home/dschaub/projects/spatialnca/spatialnca/train.py\", line 39, in train\n",
      "    trainer.train(data)\n",
      "  File \"/home/dschaub/projects/spatialnca/spatialnca/train.py\", line 119, in train\n",
      "    loss = self.train_one_epoch(data)\n",
      "           ^^^^^^^^^^^^^^^^^^^^^^^^^^\n",
      "  File \"/home/dschaub/projects/spatialnca/spatialnca/train.py\", line 153, in train_one_epoch\n",
      "    assert not pd.isna(loss.item()), (\n",
      "                       ^^^^^^^^^^^\n",
      "KeyboardInterrupt\n"
     ]
    },
    {
     "ename": "KeyboardInterrupt",
     "evalue": "",
     "output_type": "error",
     "traceback": [
      "\u001b[31m---------------------------------------------------------------------------\u001b[39m",
      "\u001b[31mKeyboardInterrupt\u001b[39m                         Traceback (most recent call last)",
      "\u001b[36mCell\u001b[39m\u001b[36m \u001b[39m\u001b[32mIn[8]\u001b[39m\u001b[32m, line 6\u001b[39m\n\u001b[32m      2\u001b[39m os.environ[\u001b[33m\"\u001b[39m\u001b[33mWANDB_MODE\u001b[39m\u001b[33m\"\u001b[39m] = \u001b[33m\"\u001b[39m\u001b[33mdisabled\u001b[39m\u001b[33m\"\u001b[39m\n\u001b[32m      3\u001b[39m \u001b[38;5;66;03m# os.environ[\"WANDB_MODE\"] = \"online\"\u001b[39;00m\n\u001b[32m      4\u001b[39m \u001b[38;5;66;03m# os.environ[\"WANDB_DISABLED\"] = \"true\"\u001b[39;00m\n\u001b[32m----> \u001b[39m\u001b[32m6\u001b[39m trainer = \u001b[43mtrain\u001b[49m\u001b[43m(\u001b[49m\u001b[43mcfg\u001b[49m\u001b[43m,\u001b[49m\u001b[43m \u001b[49m\u001b[43mprint_cfg\u001b[49m\u001b[43m=\u001b[49m\u001b[38;5;28;43;01mFalse\u001b[39;49;00m\u001b[43m)\u001b[49m\n\u001b[32m      7\u001b[39m trainer.plot_history(title=diff_str, save_path=\u001b[33mf\u001b[39m\u001b[33m\"\u001b[39m\u001b[33mfigures/history_\u001b[39m\u001b[38;5;132;01m{\u001b[39;00mclean_diff_str\u001b[38;5;132;01m}\u001b[39;00m\u001b[33m.png\u001b[39m\u001b[33m\"\u001b[39m)\n\u001b[32m      9\u001b[39m torch.save(trainer.model, \u001b[33mf\u001b[39m\u001b[33m\"\u001b[39m\u001b[33mcheckpoints/trained_model_\u001b[39m\u001b[38;5;132;01m{\u001b[39;00mclean_diff_str\u001b[38;5;132;01m}\u001b[39;00m\u001b[33m.pt\u001b[39m\u001b[33m\"\u001b[39m)\n",
      "\u001b[36mFile \u001b[39m\u001b[32m~/projects/spatialnca/spatialnca/train.py:39\u001b[39m, in \u001b[36mtrain\u001b[39m\u001b[34m(cfg, print_cfg)\u001b[39m\n\u001b[32m     32\u001b[39m     spnca = SpatialNCA(\n\u001b[32m     33\u001b[39m         data.num_features,\n\u001b[32m     34\u001b[39m         cfg,\n\u001b[32m     35\u001b[39m     )\n\u001b[32m     37\u001b[39m     trainer = Trainer(model=spnca, cfg=cfg)\n\u001b[32m---> \u001b[39m\u001b[32m39\u001b[39m     \u001b[43mtrainer\u001b[49m\u001b[43m.\u001b[49m\u001b[43mtrain\u001b[49m\u001b[43m(\u001b[49m\u001b[43mdata\u001b[49m\u001b[43m)\u001b[49m\n\u001b[32m     41\u001b[39m \u001b[38;5;28;01mreturn\u001b[39;00m trainer\n",
      "\u001b[36mFile \u001b[39m\u001b[32m~/projects/spatialnca/spatialnca/train.py:119\u001b[39m, in \u001b[36mTrainer.train\u001b[39m\u001b[34m(self, data)\u001b[39m\n\u001b[32m    116\u001b[39m         param_group[\u001b[33m\"\u001b[39m\u001b[33mlr\u001b[39m\u001b[33m\"\u001b[39m] = lr\n\u001b[32m    118\u001b[39m \u001b[38;5;66;03m# train one epoch\u001b[39;00m\n\u001b[32m--> \u001b[39m\u001b[32m119\u001b[39m loss = \u001b[38;5;28;43mself\u001b[39;49m\u001b[43m.\u001b[49m\u001b[43mtrain_one_epoch\u001b[49m\u001b[43m(\u001b[49m\u001b[43mdata\u001b[49m\u001b[43m)\u001b[49m\n\u001b[32m    121\u001b[39m \u001b[38;5;66;03m# log metrics\u001b[39;00m\n\u001b[32m    122\u001b[39m \u001b[38;5;28mself\u001b[39m.logger.log({\u001b[33m\"\u001b[39m\u001b[33mepoch\u001b[39m\u001b[33m\"\u001b[39m: epoch, \u001b[33m\"\u001b[39m\u001b[33mtrain_loss\u001b[39m\u001b[33m\"\u001b[39m: loss.item()})\n",
      "\u001b[36mFile \u001b[39m\u001b[32m~/projects/spatialnca/spatialnca/train.py:153\u001b[39m, in \u001b[36mTrainer.train_one_epoch\u001b[39m\u001b[34m(self, data)\u001b[39m\n\u001b[32m    150\u001b[39m \u001b[38;5;28mself\u001b[39m.optimizer.step()\n\u001b[32m    152\u001b[39m \u001b[38;5;66;03m# check for NaN loss\u001b[39;00m\n\u001b[32m--> \u001b[39m\u001b[32m153\u001b[39m \u001b[38;5;28;01massert\u001b[39;00m \u001b[38;5;129;01mnot\u001b[39;00m pd.isna(\u001b[43mloss\u001b[49m\u001b[43m.\u001b[49m\u001b[43mitem\u001b[49m\u001b[43m(\u001b[49m\u001b[43m)\u001b[49m), (\n\u001b[32m    154\u001b[39m     \u001b[33mf\u001b[39m\u001b[33m\"\u001b[39m\u001b[33mLoss is NaN:\u001b[39m\u001b[38;5;130;01m\\n\u001b[39;00m\u001b[33m\"\u001b[39m\n\u001b[32m    155\u001b[39m     \u001b[33mf\u001b[39m\u001b[33m\"\u001b[39m\u001b[33mloss: \u001b[39m\u001b[38;5;132;01m{\u001b[39;00mloss\u001b[38;5;132;01m}\u001b[39;00m\u001b[38;5;130;01m\\n\u001b[39;00m\u001b[33m\"\u001b[39m\n\u001b[32m    156\u001b[39m     \u001b[33mf\u001b[39m\u001b[33m\"\u001b[39m\u001b[33mpos: \u001b[39m\u001b[38;5;132;01m{\u001b[39;00mpos\u001b[38;5;132;01m}\u001b[39;00m\u001b[38;5;130;01m\\n\u001b[39;00m\u001b[33m\"\u001b[39m\n\u001b[32m    157\u001b[39m     \u001b[33mf\u001b[39m\u001b[33m\"\u001b[39m\u001b[33medge_index: \u001b[39m\u001b[38;5;132;01m{\u001b[39;00medge_index\u001b[38;5;132;01m}\u001b[39;00m\u001b[38;5;130;01m\\n\u001b[39;00m\u001b[33m\"\u001b[39m\n\u001b[32m    158\u001b[39m     \u001b[33mf\u001b[39m\u001b[33m\"\u001b[39m\u001b[33mdata.pos_init: \u001b[39m\u001b[38;5;132;01m{\u001b[39;00mdata.pos_init\u001b[38;5;132;01m}\u001b[39;00m\u001b[38;5;130;01m\\n\u001b[39;00m\u001b[33m\"\u001b[39m\n\u001b[32m    159\u001b[39m     \u001b[33mf\u001b[39m\u001b[33m\"\u001b[39m\u001b[33mdata.pos: \u001b[39m\u001b[38;5;132;01m{\u001b[39;00mdata.pos\u001b[38;5;132;01m}\u001b[39;00m\u001b[33m\"\u001b[39m\n\u001b[32m    160\u001b[39m )\n\u001b[32m    161\u001b[39m \u001b[38;5;28;01mreturn\u001b[39;00m loss\n",
      "\u001b[31mKeyboardInterrupt\u001b[39m: "
     ]
    }
   ],
   "source": [
    "wandb.finish()\n",
    "os.environ[\"WANDB_MODE\"] = \"disabled\"\n",
    "# os.environ[\"WANDB_MODE\"] = \"online\"\n",
    "# os.environ[\"WANDB_DISABLED\"] = \"true\"\n",
    "\n",
    "trainer = train(cfg, print_cfg=False)\n",
    "trainer.plot_history(title=diff_str, save_path=f\"figures/history_{clean_diff_str}.png\")\n",
    "\n",
    "torch.save(trainer.model, f\"checkpoints/trained_model_{clean_diff_str}.pt\")"
   ]
  }
 ],
 "metadata": {
  "kernelspec": {
   "display_name": ".venv",
   "language": "python",
   "name": "python3"
  },
  "language_info": {
   "codemirror_mode": {
    "name": "ipython",
    "version": 3
   },
   "file_extension": ".py",
   "mimetype": "text/x-python",
   "name": "python",
   "nbconvert_exporter": "python",
   "pygments_lexer": "ipython3",
   "version": "3.12.8"
  }
 },
 "nbformat": 4,
 "nbformat_minor": 2
}
