{
 "cells": [
  {
   "cell_type": "code",
   "execution_count": 1,
   "metadata": {},
   "outputs": [
    {
     "name": "stdout",
     "output_type": "stream",
     "text": [
      "Working directory: /home/dschaub/projects/spatialnca\n"
     ]
    }
   ],
   "source": [
    "# autoreload\n",
    "%load_ext autoreload\n",
    "%autoreload 2\n",
    "\n",
    "import os\n",
    "\n",
    "while \".gitignore\" not in os.listdir():\n",
    "    parent = os.path.dirname(os.getcwd())\n",
    "    os.chdir(parent)\n",
    "print(f\"Working directory: {os.getcwd()}\")\n",
    "import wandb\n",
    "import torch\n",
    "import numpy as np\n",
    "import scanpy as sc\n",
    "\n",
    "from spatialnca.train import train\n",
    "\n",
    "from spatialnca.config import Config\n",
    "from spatialnca.utils import animate_trajectory, spatial_scatter"
   ]
  },
  {
   "cell_type": "code",
   "execution_count": 2,
   "metadata": {},
   "outputs": [
    {
     "data": {
      "text/plain": [
       "np.float64(11052.408446371417)"
      ]
     },
     "execution_count": 2,
     "metadata": {},
     "output_type": "execute_result"
    }
   ],
   "source": [
    "def func(eps, r):\n",
    "    return -np.log(eps) / (r**2)\n",
    "\n",
    "\n",
    "func(1e-3, 0.025)"
   ]
  },
  {
   "cell_type": "code",
   "execution_count": 3,
   "metadata": {},
   "outputs": [],
   "source": [
    "default_cfg = Config()\n",
    "cfg = Config()\n",
    "# cfg.emb_key = None\n",
    "cfg.add_init = True\n",
    "# cfg.act = \"gelu\"\n",
    "# cfg.gpt2_weight_init = True\n",
    "# cfg.pos_init_fn = \"uniform\"\n",
    "# cfg.pos_init_fn = \"sunflower\"\n",
    "# cfg.dynamic_edges = True\n",
    "# cfg.n_static_warmup_steps = 1000\n",
    "# cfg.edge_update_steps = 2\n",
    "# cfg.use_orig_graph = False  # use the initial graph for the first n_static_warmup_steps\n",
    "cfg.clip_value = 1.0\n",
    "# cfg.lr = 1e-2\n",
    "# cfg.warmup_iters = 1000\n",
    "# cfg.n_epochs = int(1e6)\n",
    "cfg.n_epochs = 10000\n",
    "# cfg.intm_loss = True\n",
    "# cfg.pos_init_kwargs = {\"scale\": 0.1}\n",
    "# cfg.normalize_diff = True\n",
    "# cfg.max_coord_upd_norm = 0.75\n",
    "cfg.complete = True\n",
    "# cfg.delaunay = True\n",
    "# cfg.knn = 5\n",
    "# cfg.pos_init_fn = \"random_walk\"\n",
    "# cfg.pos_init_kwargs = {\"scale\": 0.1}\n",
    "cfg.n_steps = 5\n",
    "cfg.kernel_fn = \"gaussian\"\n",
    "cfg.kernel_kwargs = {\"sigma\": 1.0, \"eps\": 1e-3, \"radius\": 0.05}\n",
    "cfg.use_attn = True\n",
    "# cfg.aggr = \"mean\""
   ]
  },
  {
   "cell_type": "code",
   "execution_count": 4,
   "metadata": {},
   "outputs": [],
   "source": [
    "default_cfg = Config()\n",
    "cfg = Config()\n",
    "cfg.add_init = True\n",
    "cfg.clip_value = 1.0\n",
    "# cfg.lr = 1e-2\n",
    "cfg.n_epochs = 10000\n",
    "# cfg.max_coord_upd_norm = 0.15\n",
    "cfg.complete = True\n",
    "# cfg.n_steps = 30\n",
    "# cfg.pos_init_kwargs = {\"scale\": 0.2}\n",
    "cfg.kernel_fn = \"gaussian\"\n",
    "cfg.kernel_kwargs = {\"eps\": 1e-2, \"max_radius\": 0.2}\n",
    "cfg.use_attn = True\n",
    "cfg.scale_by_dist = True\n",
    "# cfg.alpha_decay = True\n",
    "# cfg.aggr = \"mean\""
   ]
  },
  {
   "cell_type": "code",
   "execution_count": 5,
   "metadata": {},
   "outputs": [
    {
     "name": "stdout",
     "output_type": "stream",
     "text": [
      "use_attn=False->True,\n",
      "add_init=False->True,\n",
      "complete=False->True,\n",
      "kernel_fn=None->gaussian,\n",
      "kernel_kwargs=None->{'eps': 0.01, 'max_radius': 0.2},\n",
      "scale_by_dist=False->True,\n",
      "alpha_decay=False->True\n"
     ]
    }
   ],
   "source": [
    "diff = cfg - default_cfg\n",
    "if len(diff) > 0:\n",
    "    diff_str = \",\\n\".join([f\"{k}={v}\" for k, v in diff.items()])\n",
    "else:\n",
    "    diff_str = \"Default config\"\n",
    "clean_diff_str = diff_str.replace(\", \", \"_\").replace(\"\\n\", \"_\")\n",
    "print(diff_str)"
   ]
  },
  {
   "cell_type": "code",
   "execution_count": 6,
   "metadata": {},
   "outputs": [
    {
     "name": "stdout",
     "output_type": "stream",
     "text": [
      "Constructed graph with 318 nodes and 101124 edges\n",
      "Using sigma offset for eps 0.01 and max_radius 0.2: 115.12925464970225\n"
     ]
    },
    {
     "data": {
      "application/vnd.jupyter.widget-view+json": {
       "model_id": "0c68395eec1e45f580ce5c0fe7d85c98",
       "version_major": 2,
       "version_minor": 0
      },
      "text/plain": [
       "Training:   0%|          | 0/10000 [00:00<?, ?it/s]"
      ]
     },
     "metadata": {},
     "output_type": "display_data"
    },
    {
     "name": "stderr",
     "output_type": "stream",
     "text": [
      "Traceback (most recent call last):\n",
      "  File \"/home/dschaub/projects/spatialnca/spatialnca/train.py\", line 39, in train\n",
      "    trainer.train(data)\n",
      "  File \"/home/dschaub/projects/spatialnca/spatialnca/train.py\", line 123, in train\n",
      "    loss = self.train_one_epoch(\n",
      "           ^^^^^^^^^^^^^^^^^^^^^\n",
      "  File \"/home/dschaub/projects/spatialnca/spatialnca/train.py\", line 159, in train_one_epoch\n",
      "    loss.backward()\n",
      "  File \"/home/dschaub/projects/spatialnca/.venv/lib/python3.12/site-packages/torch/_tensor.py\", line 648, in backward\n",
      "    torch.autograd.backward(\n",
      "  File \"/home/dschaub/projects/spatialnca/.venv/lib/python3.12/site-packages/torch/autograd/__init__.py\", line 353, in backward\n",
      "    _engine_run_backward(\n",
      "  File \"/home/dschaub/projects/spatialnca/.venv/lib/python3.12/site-packages/torch/autograd/graph.py\", line 824, in _engine_run_backward\n",
      "    return Variable._execution_engine.run_backward(  # Calls into the C++ engine to run the backward pass\n",
      "           ^^^^^^^^^^^^^^^^^^^^^^^^^^^^^^^^^^^^^^^^^^^^^^^^^^^^^^^^^^^^^^^^^^^^^^^^^^^^^^^^^^^^^^^^^^^^^^\n",
      "KeyboardInterrupt\n"
     ]
    },
    {
     "ename": "KeyboardInterrupt",
     "evalue": "",
     "output_type": "error",
     "traceback": [
      "\u001b[31m---------------------------------------------------------------------------\u001b[39m",
      "\u001b[31mKeyboardInterrupt\u001b[39m                         Traceback (most recent call last)",
      "\u001b[36mCell\u001b[39m\u001b[36m \u001b[39m\u001b[32mIn[6]\u001b[39m\u001b[32m, line 6\u001b[39m\n\u001b[32m      2\u001b[39m os.environ[\u001b[33m\"\u001b[39m\u001b[33mWANDB_MODE\u001b[39m\u001b[33m\"\u001b[39m] = \u001b[33m\"\u001b[39m\u001b[33mdisabled\u001b[39m\u001b[33m\"\u001b[39m\n\u001b[32m      3\u001b[39m \u001b[38;5;66;03m# os.environ[\"WANDB_MODE\"] = \"online\"\u001b[39;00m\n\u001b[32m      4\u001b[39m \u001b[38;5;66;03m# os.environ[\"WANDB_DISABLED\"] = \"true\"\u001b[39;00m\n\u001b[32m----> \u001b[39m\u001b[32m6\u001b[39m trainer = \u001b[43mtrain\u001b[49m\u001b[43m(\u001b[49m\u001b[43mcfg\u001b[49m\u001b[43m,\u001b[49m\u001b[43m \u001b[49m\u001b[43mprint_cfg\u001b[49m\u001b[43m=\u001b[49m\u001b[38;5;28;43;01mFalse\u001b[39;49;00m\u001b[43m)\u001b[49m\n\u001b[32m      7\u001b[39m trainer.plot_history(\n\u001b[32m      8\u001b[39m     title=diff_str, save_path=\u001b[33mf\u001b[39m\u001b[33m\"\u001b[39m\u001b[33mfigures/history_\u001b[39m\u001b[38;5;132;01m{\u001b[39;00mclean_diff_str[\u001b[32m0\u001b[39m:\u001b[32m50\u001b[39m]\u001b[38;5;132;01m}\u001b[39;00m\u001b[33m.png\u001b[39m\u001b[33m\"\u001b[39m\n\u001b[32m      9\u001b[39m )\n\u001b[32m     11\u001b[39m torch.save(trainer.model, \u001b[33mf\u001b[39m\u001b[33m\"\u001b[39m\u001b[33mcheckpoints/trained_model_\u001b[39m\u001b[38;5;132;01m{\u001b[39;00mclean_diff_str\u001b[38;5;132;01m}\u001b[39;00m\u001b[33m.pt\u001b[39m\u001b[33m\"\u001b[39m)\n",
      "\u001b[36mFile \u001b[39m\u001b[32m~/projects/spatialnca/spatialnca/train.py:39\u001b[39m, in \u001b[36mtrain\u001b[39m\u001b[34m(cfg, print_cfg)\u001b[39m\n\u001b[32m     32\u001b[39m     spnca = SpatialNCA(\n\u001b[32m     33\u001b[39m         data.num_features,\n\u001b[32m     34\u001b[39m         cfg,\n\u001b[32m     35\u001b[39m     )\n\u001b[32m     37\u001b[39m     trainer = Trainer(model=spnca, cfg=cfg)\n\u001b[32m---> \u001b[39m\u001b[32m39\u001b[39m     \u001b[43mtrainer\u001b[49m\u001b[43m.\u001b[49m\u001b[43mtrain\u001b[49m\u001b[43m(\u001b[49m\u001b[43mdata\u001b[49m\u001b[43m)\u001b[49m\n\u001b[32m     41\u001b[39m \u001b[38;5;28;01mreturn\u001b[39;00m trainer\n",
      "\u001b[36mFile \u001b[39m\u001b[32m~/projects/spatialnca/spatialnca/train.py:123\u001b[39m, in \u001b[36mTrainer.train\u001b[39m\u001b[34m(self, data)\u001b[39m\n\u001b[32m    120\u001b[39m         param_group[\u001b[33m\"\u001b[39m\u001b[33mlr\u001b[39m\u001b[33m\"\u001b[39m] = lr\n\u001b[32m    122\u001b[39m \u001b[38;5;66;03m# train one epoch\u001b[39;00m\n\u001b[32m--> \u001b[39m\u001b[32m123\u001b[39m loss = \u001b[38;5;28;43mself\u001b[39;49m\u001b[43m.\u001b[49m\u001b[43mtrain_one_epoch\u001b[49m\u001b[43m(\u001b[49m\n\u001b[32m    124\u001b[39m \u001b[43m    \u001b[49m\u001b[43mdata\u001b[49m\u001b[43m,\u001b[49m\n\u001b[32m    125\u001b[39m \u001b[43m    \u001b[49m\u001b[43mdynamic_edges\u001b[49m\u001b[43m=\u001b[49m\u001b[38;5;28;43mself\u001b[39;49m\u001b[43m.\u001b[49m\u001b[43mdynamic_edges\u001b[49m\n\u001b[32m    126\u001b[39m \u001b[43m    \u001b[49m\u001b[38;5;28;43;01mif\u001b[39;49;00m\u001b[43m \u001b[49m\u001b[43mepoch\u001b[49m\u001b[43m \u001b[49m\u001b[43m>\u001b[49m\u001b[43m=\u001b[49m\u001b[43m \u001b[49m\u001b[38;5;28;43mself\u001b[39;49m\u001b[43m.\u001b[49m\u001b[43mn_static_warmup_steps\u001b[49m\n\u001b[32m    127\u001b[39m \u001b[43m    \u001b[49m\u001b[38;5;28;43;01melse\u001b[39;49;00m\u001b[43m \u001b[49m\u001b[38;5;28;43;01mFalse\u001b[39;49;00m\u001b[43m,\u001b[49m\n\u001b[32m    128\u001b[39m \u001b[43m\u001b[49m\u001b[43m)\u001b[49m\n\u001b[32m    130\u001b[39m \u001b[38;5;66;03m# log metrics\u001b[39;00m\n\u001b[32m    131\u001b[39m \u001b[38;5;28mself\u001b[39m.logger.log({\u001b[33m\"\u001b[39m\u001b[33mepoch\u001b[39m\u001b[33m\"\u001b[39m: epoch, \u001b[33m\"\u001b[39m\u001b[33mtrain_loss\u001b[39m\u001b[33m\"\u001b[39m: loss.item()})\n",
      "\u001b[36mFile \u001b[39m\u001b[32m~/projects/spatialnca/spatialnca/train.py:159\u001b[39m, in \u001b[36mTrainer.train_one_epoch\u001b[39m\u001b[34m(self, data, dynamic_edges)\u001b[39m\n\u001b[32m    157\u001b[39m \u001b[38;5;66;03m# backprop\u001b[39;00m\n\u001b[32m    158\u001b[39m \u001b[38;5;28mself\u001b[39m.optimizer.zero_grad()\n\u001b[32m--> \u001b[39m\u001b[32m159\u001b[39m \u001b[43mloss\u001b[49m\u001b[43m.\u001b[49m\u001b[43mbackward\u001b[49m\u001b[43m(\u001b[49m\u001b[43m)\u001b[49m\n\u001b[32m    161\u001b[39m torch.nn.utils.clip_grad_norm_(\u001b[38;5;28mself\u001b[39m.model.parameters(), \u001b[38;5;28mself\u001b[39m.clip_value)\n\u001b[32m    162\u001b[39m \u001b[38;5;28mself\u001b[39m.optimizer.step()\n",
      "\u001b[36mFile \u001b[39m\u001b[32m~/projects/spatialnca/.venv/lib/python3.12/site-packages/torch/_tensor.py:648\u001b[39m, in \u001b[36mTensor.backward\u001b[39m\u001b[34m(self, gradient, retain_graph, create_graph, inputs)\u001b[39m\n\u001b[32m    638\u001b[39m \u001b[38;5;28;01mif\u001b[39;00m has_torch_function_unary(\u001b[38;5;28mself\u001b[39m):\n\u001b[32m    639\u001b[39m     \u001b[38;5;28;01mreturn\u001b[39;00m handle_torch_function(\n\u001b[32m    640\u001b[39m         Tensor.backward,\n\u001b[32m    641\u001b[39m         (\u001b[38;5;28mself\u001b[39m,),\n\u001b[32m   (...)\u001b[39m\u001b[32m    646\u001b[39m         inputs=inputs,\n\u001b[32m    647\u001b[39m     )\n\u001b[32m--> \u001b[39m\u001b[32m648\u001b[39m \u001b[43mtorch\u001b[49m\u001b[43m.\u001b[49m\u001b[43mautograd\u001b[49m\u001b[43m.\u001b[49m\u001b[43mbackward\u001b[49m\u001b[43m(\u001b[49m\n\u001b[32m    649\u001b[39m \u001b[43m    \u001b[49m\u001b[38;5;28;43mself\u001b[39;49m\u001b[43m,\u001b[49m\u001b[43m \u001b[49m\u001b[43mgradient\u001b[49m\u001b[43m,\u001b[49m\u001b[43m \u001b[49m\u001b[43mretain_graph\u001b[49m\u001b[43m,\u001b[49m\u001b[43m \u001b[49m\u001b[43mcreate_graph\u001b[49m\u001b[43m,\u001b[49m\u001b[43m \u001b[49m\u001b[43minputs\u001b[49m\u001b[43m=\u001b[49m\u001b[43minputs\u001b[49m\n\u001b[32m    650\u001b[39m \u001b[43m\u001b[49m\u001b[43m)\u001b[49m\n",
      "\u001b[36mFile \u001b[39m\u001b[32m~/projects/spatialnca/.venv/lib/python3.12/site-packages/torch/autograd/__init__.py:353\u001b[39m, in \u001b[36mbackward\u001b[39m\u001b[34m(tensors, grad_tensors, retain_graph, create_graph, grad_variables, inputs)\u001b[39m\n\u001b[32m    348\u001b[39m     retain_graph = create_graph\n\u001b[32m    350\u001b[39m \u001b[38;5;66;03m# The reason we repeat the same comment below is that\u001b[39;00m\n\u001b[32m    351\u001b[39m \u001b[38;5;66;03m# some Python versions print out the first line of a multi-line function\u001b[39;00m\n\u001b[32m    352\u001b[39m \u001b[38;5;66;03m# calls in the traceback and some print out the last line\u001b[39;00m\n\u001b[32m--> \u001b[39m\u001b[32m353\u001b[39m \u001b[43m_engine_run_backward\u001b[49m\u001b[43m(\u001b[49m\n\u001b[32m    354\u001b[39m \u001b[43m    \u001b[49m\u001b[43mtensors\u001b[49m\u001b[43m,\u001b[49m\n\u001b[32m    355\u001b[39m \u001b[43m    \u001b[49m\u001b[43mgrad_tensors_\u001b[49m\u001b[43m,\u001b[49m\n\u001b[32m    356\u001b[39m \u001b[43m    \u001b[49m\u001b[43mretain_graph\u001b[49m\u001b[43m,\u001b[49m\n\u001b[32m    357\u001b[39m \u001b[43m    \u001b[49m\u001b[43mcreate_graph\u001b[49m\u001b[43m,\u001b[49m\n\u001b[32m    358\u001b[39m \u001b[43m    \u001b[49m\u001b[43minputs\u001b[49m\u001b[43m,\u001b[49m\n\u001b[32m    359\u001b[39m \u001b[43m    \u001b[49m\u001b[43mallow_unreachable\u001b[49m\u001b[43m=\u001b[49m\u001b[38;5;28;43;01mTrue\u001b[39;49;00m\u001b[43m,\u001b[49m\n\u001b[32m    360\u001b[39m \u001b[43m    \u001b[49m\u001b[43maccumulate_grad\u001b[49m\u001b[43m=\u001b[49m\u001b[38;5;28;43;01mTrue\u001b[39;49;00m\u001b[43m,\u001b[49m\n\u001b[32m    361\u001b[39m \u001b[43m\u001b[49m\u001b[43m)\u001b[49m\n",
      "\u001b[36mFile \u001b[39m\u001b[32m~/projects/spatialnca/.venv/lib/python3.12/site-packages/torch/autograd/graph.py:824\u001b[39m, in \u001b[36m_engine_run_backward\u001b[39m\u001b[34m(t_outputs, *args, **kwargs)\u001b[39m\n\u001b[32m    822\u001b[39m     unregister_hooks = _register_logging_hooks_on_whole_graph(t_outputs)\n\u001b[32m    823\u001b[39m \u001b[38;5;28;01mtry\u001b[39;00m:\n\u001b[32m--> \u001b[39m\u001b[32m824\u001b[39m     \u001b[38;5;28;01mreturn\u001b[39;00m \u001b[43mVariable\u001b[49m\u001b[43m.\u001b[49m\u001b[43m_execution_engine\u001b[49m\u001b[43m.\u001b[49m\u001b[43mrun_backward\u001b[49m\u001b[43m(\u001b[49m\u001b[43m  \u001b[49m\u001b[38;5;66;43;03m# Calls into the C++ engine to run the backward pass\u001b[39;49;00m\n\u001b[32m    825\u001b[39m \u001b[43m        \u001b[49m\u001b[43mt_outputs\u001b[49m\u001b[43m,\u001b[49m\u001b[43m \u001b[49m\u001b[43m*\u001b[49m\u001b[43margs\u001b[49m\u001b[43m,\u001b[49m\u001b[43m \u001b[49m\u001b[43m*\u001b[49m\u001b[43m*\u001b[49m\u001b[43mkwargs\u001b[49m\n\u001b[32m    826\u001b[39m \u001b[43m    \u001b[49m\u001b[43m)\u001b[49m  \u001b[38;5;66;03m# Calls into the C++ engine to run the backward pass\u001b[39;00m\n\u001b[32m    827\u001b[39m \u001b[38;5;28;01mfinally\u001b[39;00m:\n\u001b[32m    828\u001b[39m     \u001b[38;5;28;01mif\u001b[39;00m attach_logging_hooks:\n",
      "\u001b[31mKeyboardInterrupt\u001b[39m: "
     ]
    }
   ],
   "source": [
    "wandb.finish()\n",
    "os.environ[\"WANDB_MODE\"] = \"disabled\"\n",
    "# os.environ[\"WANDB_MODE\"] = \"online\"\n",
    "# os.environ[\"WANDB_DISABLED\"] = \"true\"\n",
    "\n",
    "trainer = train(cfg, print_cfg=False)\n",
    "\n",
    "os.makedirs(\"figures\", exist_ok=True)\n",
    "os.makedirs(\"checkpoints\", exist_ok=True)\n",
    "\n",
    "trainer.plot_history(\n",
    "    title=diff_str, save_path=f\"figures/history_{clean_diff_str[0:50]}.png\"\n",
    ")\n",
    "\n",
    "torch.save(trainer.model, f\"checkpoints/trained_model_{clean_diff_str}.pt\")"
   ]
  },
  {
   "cell_type": "code",
   "execution_count": null,
   "metadata": {},
   "outputs": [],
   "source": [
    "# perform another rollout to check the result\n",
    "n_steps = cfg.n_steps\n",
    "\n",
    "model = trainer.model\n",
    "data = trainer.data\n",
    "\n",
    "states = model.rollout(\n",
    "    x=data.x,\n",
    "    pos=data.pos_init,\n",
    "    n_steps=n_steps,\n",
    "    edge_index=data.edge_index_init,\n",
    "    return_evolution=True,\n",
    "    prog_bar=True,\n",
    "    dynamic_edges=cfg.dynamic_edges,\n",
    ")\n",
    "positions = np.array([state[\"pos\"] for state in states])\n",
    "positions.shape\n",
    "\n",
    "pos = states[-1][\"pos\"].to(trainer.device)\n",
    "loss = trainer.compute_loss(pos)\n",
    "loss"
   ]
  },
  {
   "cell_type": "code",
   "execution_count": 52,
   "metadata": {},
   "outputs": [],
   "source": [
    "# usage\n",
    "animate_trajectory(\n",
    "    positions,\n",
    "    interpolation_steps=30,\n",
    "    out_path=\"figures/positions_dynamic.mp4\",\n",
    "    # colors=set_color(adata, \"subclass\"),\n",
    ")"
   ]
  },
  {
   "cell_type": "code",
   "execution_count": null,
   "metadata": {},
   "outputs": [],
   "source": [
    "# perform another rollout to check the result\n",
    "adata = sc.read_h5ad(cfg.path)\n",
    "\n",
    "# convert to anndata for plotting\n",
    "ad_init = adata.copy()\n",
    "ad_init.obsm[\"spatial\"] = data.pos_init.cpu().detach().numpy()\n",
    "\n",
    "ad_final = adata.copy()\n",
    "ad_final.obsm[\"spatial\"] = pos.cpu().detach().numpy()\n",
    "\n",
    "\n",
    "spatial_scatter(ad_init, color=None, title=\"Initial positions\")\n",
    "spatial_scatter(ad_final, color=None, title=\"Predicted\")\n",
    "spatial_scatter(adata, color=None, title=\"Ground truth\")\n",
    "\n",
    "col = \"celltype_l1\"\n",
    "col = \"subclass\"\n",
    "\n",
    "if col in adata.obs.columns:\n",
    "    spatial_scatter(adata, color=col, title=\"Ground truth\")\n",
    "    spatial_scatter(ad_final, color=col, title=\"Predicted\")\n",
    "    spatial_scatter(ad_init, color=col, title=\"Initial positons\")"
   ]
  },
  {
   "cell_type": "code",
   "execution_count": null,
   "metadata": {},
   "outputs": [],
   "source": [
    "# check the loss\n",
    "edge_index_full = trainer.edge_index_full\n",
    "dists_true = trainer.dists_true\n",
    "\n",
    "# dists_pred = torch.norm(pos[edge_index_full[0]] - pos[edge_index_full[1]], p=2, dim=-1)\n",
    "\n",
    "# loss = torch.mean((dists_pred - dists_true) ** 2)\n",
    "# loss\n",
    "loss = trainer.compute_loss(pos)\n",
    "loss"
   ]
  }
 ],
 "metadata": {
  "kernelspec": {
   "display_name": ".venv",
   "language": "python",
   "name": "python3"
  },
  "language_info": {
   "codemirror_mode": {
    "name": "ipython",
    "version": 3
   },
   "file_extension": ".py",
   "mimetype": "text/x-python",
   "name": "python",
   "nbconvert_exporter": "python",
   "pygments_lexer": "ipython3",
   "version": "3.12.8"
  }
 },
 "nbformat": 4,
 "nbformat_minor": 2
}
